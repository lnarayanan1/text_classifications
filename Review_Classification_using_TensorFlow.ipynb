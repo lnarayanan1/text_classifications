{
  "nbformat": 4,
  "nbformat_minor": 0,
  "metadata": {
    "colab": {
      "name": "Review Classification using TensorFlow.ipynb",
      "provenance": [],
      "collapsed_sections": [],
      "authorship_tag": "ABX9TyNHyMS+tdi63n5UvIgggDGm"
    },
    "kernelspec": {
      "name": "python3",
      "display_name": "Python 3"
    }
  },
  "cells": [
    {
      "cell_type": "markdown",
      "metadata": {
        "id": "IvIMN3dweMrJ"
      },
      "source": [
        "#**IMDB Review Classification**\n",
        "\n",
        "The model is built using Tensor Flow and is an example of binary Text Classification"
      ]
    },
    {
      "cell_type": "code",
      "metadata": {
        "id": "7E30N707XBZS",
        "outputId": "897b281e-3352-4811-d372-a7394888bf79",
        "colab": {
          "base_uri": "https://localhost:8080/"
        }
      },
      "source": [
        "## Importing of libraries and packages\n",
        "import numpy as np\n",
        "import matplotlib.pyplot as plt\n",
        "\n",
        "import tensorflow as tf\n",
        "import tensorflow_hub as hub\n",
        "import tensorflow_datasets as tfds\n",
        "\n",
        "print(\"TF Version:\", tf.__version__)\n",
        "print(\"TF Eager mode:\", tf.executing_eagerly())\n",
        "print(\"TF Hub Version:\", hub.__version__)\n",
        "print(\"GPU is\",\"available\" if tf.config.list_physical_devices('GPU') else \"Not available\" )"
      ],
      "execution_count": 25,
      "outputs": [
        {
          "output_type": "stream",
          "text": [
            "TF Version: 2.3.0\n",
            "TF Eager mode: True\n",
            "TF Hub Version: 0.9.0\n",
            "GPU is Not available\n"
          ],
          "name": "stdout"
        }
      ]
    },
    {
      "cell_type": "code",
      "metadata": {
        "id": "CnhWGPITYemj"
      },
      "source": [
        "## Loading the Data set from TensorFlow Datasets\n",
        "train_data, test_data = tfds.load(name=\"imdb_reviews\", split=[\"train\", \"test\"], batch_size=-1, as_supervised=True)\n",
        "\n",
        "train_examples, train_labels = tfds.as_numpy(train_data)\n",
        "test_examples, test_labels = tfds.as_numpy(test_data)"
      ],
      "execution_count": 7,
      "outputs": []
    },
    {
      "cell_type": "code",
      "metadata": {
        "id": "UqOQlZDibbVh",
        "outputId": "087afe2f-e341-4125-9c91-59c5ac2084c6",
        "colab": {
          "base_uri": "https://localhost:8080/"
        }
      },
      "source": [
        "print(\"Training entries: {}, test entries: {}\".format(len(train_examples), len(test_examples)))"
      ],
      "execution_count": 8,
      "outputs": [
        {
          "output_type": "stream",
          "text": [
            "Training entries: 25000, test entries: 25000\n"
          ],
          "name": "stdout"
        }
      ]
    },
    {
      "cell_type": "code",
      "metadata": {
        "id": "Y7refV2MbmAg",
        "outputId": "829af3ec-cca5-4837-afb3-933d52e144fb",
        "colab": {
          "base_uri": "https://localhost:8080/"
        }
      },
      "source": [
        "train_examples[:10]"
      ],
      "execution_count": 9,
      "outputs": [
        {
          "output_type": "execute_result",
          "data": {
            "text/plain": [
              "array([b\"This was an absolutely terrible movie. Don't be lured in by Christopher Walken or Michael Ironside. Both are great actors, but this must simply be their worst role in history. Even their great acting could not redeem this movie's ridiculous storyline. This movie is an early nineties US propaganda piece. The most pathetic scenes were those when the Columbian rebels were making their cases for revolutions. Maria Conchita Alonso appeared phony, and her pseudo-love affair with Walken was nothing but a pathetic emotional plug in a movie that was devoid of any real meaning. I am disappointed that there are movies like this, ruining actor's like Christopher Walken's good name. I could barely sit through it.\",\n",
              "       b'I have been known to fall asleep during films, but this is usually due to a combination of things including, really tired, being warm and comfortable on the sette and having just eaten a lot. However on this occasion I fell asleep because the film was rubbish. The plot development was constant. Constantly slow and boring. Things seemed to happen, but with no explanation of what was causing them or why. I admit, I may have missed part of the film, but i watched the majority of it and everything just seemed to happen of its own accord without any real concern for anything else. I cant recommend this film at all.',\n",
              "       b'Mann photographs the Alberta Rocky Mountains in a superb fashion, and Jimmy Stewart and Walter Brennan give enjoyable performances as they always seem to do. <br /><br />But come on Hollywood - a Mountie telling the people of Dawson City, Yukon to elect themselves a marshal (yes a marshal!) and to enforce the law themselves, then gunfighters battling it out on the streets for control of the town? <br /><br />Nothing even remotely resembling that happened on the Canadian side of the border during the Klondike gold rush. Mr. Mann and company appear to have mistaken Dawson City for Deadwood, the Canadian North for the American Wild West.<br /><br />Canadian viewers be prepared for a Reefer Madness type of enjoyable howl with this ludicrous plot, or, to shake your head in disgust.',\n",
              "       b'This is the kind of film for a snowy Sunday afternoon when the rest of the world can go ahead with its own business as you descend into a big arm-chair and mellow for a couple of hours. Wonderful performances from Cher and Nicolas Cage (as always) gently row the plot along. There are no rapids to cross, no dangerous waters, just a warm and witty paddle through New York life at its best. A family film in every sense and one that deserves the praise it received.',\n",
              "       b'As others have mentioned, all the women that go nude in this film are mostly absolutely gorgeous. The plot very ably shows the hypocrisy of the female libido. When men are around they want to be pursued, but when no \"men\" are around, they become the pursuers of a 14 year old boy. And the boy becomes a man really fast (we should all be so lucky at this age!). He then gets up the courage to pursue his true love.',\n",
              "       b\"This is a film which should be seen by anybody interested in, effected by, or suffering from an eating disorder. It is an amazingly accurate and sensitive portrayal of bulimia in a teenage girl, its causes and its symptoms. The girl is played by one of the most brilliant young actresses working in cinema today, Alison Lohman, who was later so spectacular in 'Where the Truth Lies'. I would recommend that this film be shown in all schools, as you will never see a better on this subject. Alison Lohman is absolutely outstanding, and one marvels at her ability to convey the anguish of a girl suffering from this compulsive disorder. If barometers tell us the air pressure, Alison Lohman tells us the emotional pressure with the same degree of accuracy. Her emotional range is so precise, each scene could be measured microscopically for its gradations of trauma, on a scale of rising hysteria and desperation which reaches unbearable intensity. Mare Winningham is the perfect choice to play her mother, and does so with immense sympathy and a range of emotions just as finely tuned as Lohman's. Together, they make a pair of sensitive emotional oscillators vibrating in resonance with one another. This film is really an astonishing achievement, and director Katt Shea should be proud of it. The only reason for not seeing it is if you are not interested in people. But even if you like nature films best, this is after all animal behaviour at the sharp edge. Bulimia is an extreme version of how a tormented soul can destroy her own body in a frenzy of despair. And if we don't sympathise with people suffering from the depths of despair, then we are dead inside.\",\n",
              "       b'Okay, you have:<br /><br />Penelope Keith as Miss Herringbone-Tweed, B.B.E. (Backbone of England.) She\\'s killed off in the first scene - that\\'s right, folks; this show has no backbone!<br /><br />Peter O\\'Toole as Ol\\' Colonel Cricket from The First War and now the emblazered Lord of the Manor.<br /><br />Joanna Lumley as the ensweatered Lady of the Manor, 20 years younger than the colonel and 20 years past her own prime but still glamourous (Brit spelling, not mine) enough to have a toy-boy on the side. It\\'s alright, they have Col. Cricket\\'s full knowledge and consent (they guy even comes \\'round for Christmas!) Still, she\\'s considerate of the colonel enough to have said toy-boy her own age (what a gal!)<br /><br />David McCallum as said toy-boy, equally as pointlessly glamourous as his squeeze. Pilcher couldn\\'t come up with any cover for him within the story, so she gave him a hush-hush job at the Circus.<br /><br />and finally:<br /><br />Susan Hampshire as Miss Polonia Teacups, Venerable Headmistress of the Venerable Girls\\' Boarding-School, serving tea in her office with a dash of deep, poignant advice for life in the outside world just before graduation. Her best bit of advice: \"I\\'ve only been to Nancherrow (the local Stately Home of England) once. I thought it was very beautiful but, somehow, not part of the real world.\" Well, we can\\'t say they didn\\'t warn us.<br /><br />Ah, Susan - time was, your character would have been running the whole show. They don\\'t write \\'em like that any more. Our loss, not yours.<br /><br />So - with a cast and setting like this, you have the re-makings of \"Brideshead Revisited,\" right?<br /><br />Wrong! They took these 1-dimensional supporting roles because they paid so well. After all, acting is one of the oldest temp-jobs there is (YOU name another!)<br /><br />First warning sign: lots and lots of backlighting. They get around it by shooting outdoors - \"hey, it\\'s just the sunlight!\"<br /><br />Second warning sign: Leading Lady cries a lot. When not crying, her eyes are moist. That\\'s the law of romance novels: Leading Lady is \"dewy-eyed.\"<br /><br />Henceforth, Leading Lady shall be known as L.L.<br /><br />Third warning sign: L.L. actually has stars in her eyes when she\\'s in love. Still, I\\'ll give Emily Mortimer an award just for having to act with that spotlight in her eyes (I wonder . did they use contacts?)<br /><br />And lastly, fourth warning sign: no on-screen female character is \"Mrs.\" She\\'s either \"Miss\" or \"Lady.\"<br /><br />When all was said and done, I still couldn\\'t tell you who was pursuing whom and why. I couldn\\'t even tell you what was said and done.<br /><br />To sum up: they all live through World War II without anything happening to them at all.<br /><br />OK, at the end, L.L. finds she\\'s lost her parents to the Japanese prison camps and baby sis comes home catatonic. Meanwhile (there\\'s always a \"meanwhile,\") some young guy L.L. had a crush on (when, I don\\'t know) comes home from some wartime tough spot and is found living on the street by Lady of the Manor (must be some street if SHE\\'s going to find him there.) Both war casualties are whisked away to recover at Nancherrow (SOMEBODY has to be \"whisked away\" SOMEWHERE in these romance stories!)<br /><br />Great drama.',\n",
              "       b'The film is based on a genuine 1950s novel.<br /><br />Journalist Colin McInnes wrote a set of three \"London novels\": \"Absolute Beginners\", \"City of Spades\" and \"Mr Love and Justice\". I have read all three. The first two are excellent. The last, perhaps an experiment that did not come off. But McInnes\\'s work is highly acclaimed; and rightly so. This musical is the novelist\\'s ultimate nightmare - to see the fruits of one\\'s mind being turned into a glitzy, badly-acted, soporific one-dimensional apology of a film that says it captures the spirit of 1950s London, and does nothing of the sort.<br /><br />Thank goodness Colin McInnes wasn\\'t alive to witness it.',\n",
              "       b'I really love the sexy action and sci-fi films of the sixties and its because of the actress\\'s that appeared in them. They found the sexiest women to be in these films and it didn\\'t matter if they could act (Remember \"Candy\"?). The reason I was disappointed by this film was because it wasn\\'t nostalgic enough. The story here has a European sci-fi film called \"Dragonfly\" being made and the director is fired. So the producers decide to let a young aspiring filmmaker (Jeremy Davies) to complete the picture. They\\'re is one real beautiful woman in the film who plays Dragonfly but she\\'s barely in it. Film is written and directed by Roman Coppola who uses some of his fathers exploits from his early days and puts it into the script. I wish the film could have been an homage to those early films. They could have lots of cameos by actors who appeared in them. There is one actor in this film who was popular from the sixties and its John Phillip Law (Barbarella). Gerard Depardieu, Giancarlo Giannini and Dean Stockwell appear as well. I guess I\\'m going to have to continue waiting for a director to make a good homage to the films of the sixties. If any are reading this, \"Make it as sexy as you can\"! I\\'ll be waiting!',\n",
              "       b'Sure, this one isn\\'t really a blockbuster, nor does it target such a position. \"Dieter\" is the first name of a quite popular German musician, who is either loved or hated for his kind of acting and thats exactly what this movie is about. It is based on the autobiography \"Dieter Bohlen\" wrote a few years ago but isn\\'t meant to be accurate on that. The movie is filled with some sexual offensive content (at least for American standard) which is either amusing (not for the other \"actors\" of course) or dumb - it depends on your individual kind of humor or on you being a \"Bohlen\"-Fan or not. Technically speaking there isn\\'t much to criticize. Speaking of me I find this movie to be an OK-movie.'],\n",
              "      dtype=object)"
            ]
          },
          "metadata": {
            "tags": []
          },
          "execution_count": 9
        }
      ]
    },
    {
      "cell_type": "code",
      "metadata": {
        "id": "rmykvLLgbtEE",
        "outputId": "e81f8fca-d2ca-4b03-bca4-3675a26a4ac7",
        "colab": {
          "base_uri": "https://localhost:8080/"
        }
      },
      "source": [
        "train_labels[:10] ## 0 for negative reviews and 1 for positive reviews"
      ],
      "execution_count": 10,
      "outputs": [
        {
          "output_type": "execute_result",
          "data": {
            "text/plain": [
              "array([0, 0, 0, 1, 1, 1, 0, 0, 0, 0])"
            ]
          },
          "metadata": {
            "tags": []
          },
          "execution_count": 10
        }
      ]
    },
    {
      "cell_type": "code",
      "metadata": {
        "id": "YIJ1246Hbx4u",
        "outputId": "3e2e3519-b7aa-4e19-8458-9fec0d0d1a97",
        "colab": {
          "base_uri": "https://localhost:8080/"
        }
      },
      "source": [
        "## Building the model\n",
        "model = \"https://tfhub.dev/google/tf2-preview/gnews-swivel-20dim/1\"\n",
        "hub_layer = hub.KerasLayer(model, output_shape=[20], input_shape=[], \n",
        "                           dtype=tf.string, trainable=True)\n",
        "hub_layer(train_examples[:3])"
      ],
      "execution_count": 11,
      "outputs": [
        {
          "output_type": "execute_result",
          "data": {
            "text/plain": [
              "<tf.Tensor: shape=(3, 20), dtype=float32, numpy=\n",
              "array([[ 1.765786  , -3.882232  ,  3.9134233 , -1.5557289 , -3.3362343 ,\n",
              "        -1.7357955 , -1.9954445 ,  1.2989551 ,  5.081598  , -1.1041286 ,\n",
              "        -2.0503852 , -0.72675157, -0.65675956,  0.24436149, -3.7208383 ,\n",
              "         2.0954835 ,  2.2969332 , -2.0689783 , -2.9489717 , -1.1315987 ],\n",
              "       [ 1.8804485 , -2.5852382 ,  3.4066997 ,  1.0982676 , -4.056685  ,\n",
              "        -4.891284  , -2.785554  ,  1.3874227 ,  3.8476458 , -0.9256538 ,\n",
              "        -1.896706  ,  1.2113281 ,  0.11474707,  0.76209456, -4.8791065 ,\n",
              "         2.906149  ,  4.7087674 , -2.3652055 , -3.5015898 , -1.6390051 ],\n",
              "       [ 0.71152234, -0.6353217 ,  1.7385626 , -1.1168286 , -0.5451594 ,\n",
              "        -1.1808156 ,  0.09504455,  1.4653089 ,  0.66059524,  0.79308075,\n",
              "        -2.2268345 ,  0.07446612, -1.4075904 , -0.70645386, -1.907037  ,\n",
              "         1.4419787 ,  1.9551861 , -0.42660055, -2.8022065 ,  0.43727064]],\n",
              "      dtype=float32)>"
            ]
          },
          "metadata": {
            "tags": []
          },
          "execution_count": 11
        }
      ]
    },
    {
      "cell_type": "code",
      "metadata": {
        "id": "Oh0QtmipcDH9",
        "outputId": "792078a8-f32f-4530-fa03-f1a254cc1fcc",
        "colab": {
          "base_uri": "https://localhost:8080/"
        }
      },
      "source": [
        "model = tf.keras.Sequential()\n",
        "model.add(hub_layer)\n",
        "model.add(tf.keras.layers.Dense(16, activation='relu'))\n",
        "model.add(tf.keras.layers.Dense(1))\n",
        "\n",
        "model.summary()"
      ],
      "execution_count": 12,
      "outputs": [
        {
          "output_type": "stream",
          "text": [
            "Model: \"sequential\"\n",
            "_________________________________________________________________\n",
            "Layer (type)                 Output Shape              Param #   \n",
            "=================================================================\n",
            "keras_layer (KerasLayer)     (None, 20)                400020    \n",
            "_________________________________________________________________\n",
            "dense (Dense)                (None, 16)                336       \n",
            "_________________________________________________________________\n",
            "dense_1 (Dense)              (None, 1)                 17        \n",
            "=================================================================\n",
            "Total params: 400,373\n",
            "Trainable params: 400,373\n",
            "Non-trainable params: 0\n",
            "_________________________________________________________________\n"
          ],
          "name": "stdout"
        }
      ]
    },
    {
      "cell_type": "code",
      "metadata": {
        "id": "Q4S6JHN_cMUL"
      },
      "source": [
        "## Adding the loss function and optimizer to the model\n",
        "### Loss function - Binary Cross entropy\n",
        "### Optimizer - Adam\n",
        "model.compile(optimizer='adam', loss=tf.losses.BinaryCrossentropy(from_logits=True),\n",
        "              metrics=[tf.metrics.BinaryAccuracy(threshold=0.0, name='accuracy')])"
      ],
      "execution_count": 13,
      "outputs": []
    },
    {
      "cell_type": "code",
      "metadata": {
        "id": "I_ae4ofAcZ3i"
      },
      "source": [
        "## Creating a Validation set\n",
        "x_val = train_examples[:10000]\n",
        "partial_x_train = train_examples[10000:]\n",
        "\n",
        "y_val = train_labels[:10000]\n",
        "partial_y_train = train_labels[10000:]"
      ],
      "execution_count": 14,
      "outputs": []
    },
    {
      "cell_type": "code",
      "metadata": {
        "id": "cWL8rK_KceDR",
        "outputId": "473bc2cf-40f8-47be-a3ad-783271865d83",
        "colab": {
          "base_uri": "https://localhost:8080/"
        }
      },
      "source": [
        "## Training the model\n",
        "history = model.fit(partial_x_train,\n",
        "                    partial_y_train,\n",
        "                    epochs=40,\n",
        "                    batch_size=512,\n",
        "                    validation_data=(x_val, y_val),\n",
        "                    verbose=1)"
      ],
      "execution_count": 15,
      "outputs": [
        {
          "output_type": "stream",
          "text": [
            "Epoch 1/40\n",
            "30/30 [==============================] - 2s 66ms/step - loss: 0.6758 - accuracy: 0.6236 - val_loss: 0.6206 - val_accuracy: 0.6518\n",
            "Epoch 2/40\n",
            "30/30 [==============================] - 2s 61ms/step - loss: 0.5930 - accuracy: 0.6873 - val_loss: 0.5835 - val_accuracy: 0.6952\n",
            "Epoch 3/40\n",
            "30/30 [==============================] - 2s 61ms/step - loss: 0.5580 - accuracy: 0.7199 - val_loss: 0.5539 - val_accuracy: 0.7203\n",
            "Epoch 4/40\n",
            "30/30 [==============================] - 2s 61ms/step - loss: 0.5227 - accuracy: 0.7475 - val_loss: 0.5242 - val_accuracy: 0.7462\n",
            "Epoch 5/40\n",
            "30/30 [==============================] - 2s 60ms/step - loss: 0.4892 - accuracy: 0.7676 - val_loss: 0.4976 - val_accuracy: 0.7661\n",
            "Epoch 6/40\n",
            "30/30 [==============================] - 2s 60ms/step - loss: 0.4568 - accuracy: 0.7889 - val_loss: 0.4721 - val_accuracy: 0.7812\n",
            "Epoch 7/40\n",
            "30/30 [==============================] - 2s 60ms/step - loss: 0.4274 - accuracy: 0.8086 - val_loss: 0.4485 - val_accuracy: 0.7930\n",
            "Epoch 8/40\n",
            "30/30 [==============================] - 2s 61ms/step - loss: 0.3974 - accuracy: 0.8251 - val_loss: 0.4276 - val_accuracy: 0.8076\n",
            "Epoch 9/40\n",
            "30/30 [==============================] - 2s 60ms/step - loss: 0.3700 - accuracy: 0.8412 - val_loss: 0.4082 - val_accuracy: 0.8191\n",
            "Epoch 10/40\n",
            "30/30 [==============================] - 2s 60ms/step - loss: 0.3451 - accuracy: 0.8519 - val_loss: 0.3911 - val_accuracy: 0.8314\n",
            "Epoch 11/40\n",
            "30/30 [==============================] - 2s 60ms/step - loss: 0.3216 - accuracy: 0.8655 - val_loss: 0.3775 - val_accuracy: 0.8409\n",
            "Epoch 12/40\n",
            "30/30 [==============================] - 2s 61ms/step - loss: 0.2989 - accuracy: 0.8771 - val_loss: 0.3648 - val_accuracy: 0.8466\n",
            "Epoch 13/40\n",
            "30/30 [==============================] - 2s 60ms/step - loss: 0.2800 - accuracy: 0.8859 - val_loss: 0.3576 - val_accuracy: 0.8494\n",
            "Epoch 14/40\n",
            "30/30 [==============================] - 2s 61ms/step - loss: 0.2595 - accuracy: 0.8969 - val_loss: 0.3500 - val_accuracy: 0.8540\n",
            "Epoch 15/40\n",
            "30/30 [==============================] - 2s 61ms/step - loss: 0.2434 - accuracy: 0.9047 - val_loss: 0.3389 - val_accuracy: 0.8600\n",
            "Epoch 16/40\n",
            "30/30 [==============================] - 2s 61ms/step - loss: 0.2281 - accuracy: 0.9125 - val_loss: 0.3347 - val_accuracy: 0.8632\n",
            "Epoch 17/40\n",
            "30/30 [==============================] - 2s 61ms/step - loss: 0.2136 - accuracy: 0.9201 - val_loss: 0.3298 - val_accuracy: 0.8640\n",
            "Epoch 18/40\n",
            "30/30 [==============================] - 2s 62ms/step - loss: 0.2009 - accuracy: 0.9267 - val_loss: 0.3299 - val_accuracy: 0.8637\n",
            "Epoch 19/40\n",
            "30/30 [==============================] - 2s 60ms/step - loss: 0.1894 - accuracy: 0.9320 - val_loss: 0.3265 - val_accuracy: 0.8667\n",
            "Epoch 20/40\n",
            "30/30 [==============================] - 2s 60ms/step - loss: 0.1782 - accuracy: 0.9387 - val_loss: 0.3244 - val_accuracy: 0.8703\n",
            "Epoch 21/40\n",
            "30/30 [==============================] - 2s 60ms/step - loss: 0.1666 - accuracy: 0.9420 - val_loss: 0.3262 - val_accuracy: 0.8698\n",
            "Epoch 22/40\n",
            "30/30 [==============================] - 2s 60ms/step - loss: 0.1575 - accuracy: 0.9463 - val_loss: 0.3284 - val_accuracy: 0.8700\n",
            "Epoch 23/40\n",
            "30/30 [==============================] - 2s 59ms/step - loss: 0.1482 - accuracy: 0.9501 - val_loss: 0.3245 - val_accuracy: 0.8721\n",
            "Epoch 24/40\n",
            "30/30 [==============================] - 2s 59ms/step - loss: 0.1408 - accuracy: 0.9544 - val_loss: 0.3309 - val_accuracy: 0.8704\n",
            "Epoch 25/40\n",
            "30/30 [==============================] - 2s 60ms/step - loss: 0.1314 - accuracy: 0.9579 - val_loss: 0.3296 - val_accuracy: 0.8740\n",
            "Epoch 26/40\n",
            "30/30 [==============================] - 2s 59ms/step - loss: 0.1241 - accuracy: 0.9611 - val_loss: 0.3310 - val_accuracy: 0.8731\n",
            "Epoch 27/40\n",
            "30/30 [==============================] - 2s 60ms/step - loss: 0.1165 - accuracy: 0.9644 - val_loss: 0.3336 - val_accuracy: 0.8731\n",
            "Epoch 28/40\n",
            "30/30 [==============================] - 2s 61ms/step - loss: 0.1098 - accuracy: 0.9659 - val_loss: 0.3371 - val_accuracy: 0.8732\n",
            "Epoch 29/40\n",
            "30/30 [==============================] - 2s 59ms/step - loss: 0.1024 - accuracy: 0.9705 - val_loss: 0.3407 - val_accuracy: 0.8733\n",
            "Epoch 30/40\n",
            "30/30 [==============================] - 2s 60ms/step - loss: 0.0964 - accuracy: 0.9729 - val_loss: 0.3457 - val_accuracy: 0.8736\n",
            "Epoch 31/40\n",
            "30/30 [==============================] - 2s 61ms/step - loss: 0.0906 - accuracy: 0.9743 - val_loss: 0.3508 - val_accuracy: 0.8724\n",
            "Epoch 32/40\n",
            "30/30 [==============================] - 2s 59ms/step - loss: 0.0859 - accuracy: 0.9759 - val_loss: 0.3550 - val_accuracy: 0.8739\n",
            "Epoch 33/40\n",
            "30/30 [==============================] - 2s 60ms/step - loss: 0.0794 - accuracy: 0.9795 - val_loss: 0.3620 - val_accuracy: 0.8713\n",
            "Epoch 34/40\n",
            "30/30 [==============================] - 2s 60ms/step - loss: 0.0744 - accuracy: 0.9815 - val_loss: 0.3675 - val_accuracy: 0.8741\n",
            "Epoch 35/40\n",
            "30/30 [==============================] - 2s 60ms/step - loss: 0.0694 - accuracy: 0.9833 - val_loss: 0.3722 - val_accuracy: 0.8729\n",
            "Epoch 36/40\n",
            "30/30 [==============================] - 2s 62ms/step - loss: 0.0647 - accuracy: 0.9853 - val_loss: 0.3788 - val_accuracy: 0.8708\n",
            "Epoch 37/40\n",
            "30/30 [==============================] - 2s 61ms/step - loss: 0.0604 - accuracy: 0.9863 - val_loss: 0.3852 - val_accuracy: 0.8721\n",
            "Epoch 38/40\n",
            "30/30 [==============================] - 2s 60ms/step - loss: 0.0561 - accuracy: 0.9877 - val_loss: 0.3925 - val_accuracy: 0.8721\n",
            "Epoch 39/40\n",
            "30/30 [==============================] - 2s 60ms/step - loss: 0.0525 - accuracy: 0.9891 - val_loss: 0.4002 - val_accuracy: 0.8707\n",
            "Epoch 40/40\n",
            "30/30 [==============================] - 2s 59ms/step - loss: 0.0487 - accuracy: 0.9913 - val_loss: 0.4073 - val_accuracy: 0.8709\n"
          ],
          "name": "stdout"
        }
      ]
    },
    {
      "cell_type": "code",
      "metadata": {
        "id": "me0HFkW5csCt",
        "outputId": "3df5d4cd-978f-4fae-c6d9-c007cdc5174b",
        "colab": {
          "base_uri": "https://localhost:8080/"
        }
      },
      "source": [
        "## Evaluating the model\n",
        "results = model.evaluate(test_data, test_labels)\n",
        "print(results)"
      ],
      "execution_count": 16,
      "outputs": [
        {
          "output_type": "stream",
          "text": [
            "782/782 [==============================] - 3s 4ms/step - loss: 0.4350 - accuracy: 0.8547\n",
            "[0.4349846839904785, 0.8547199964523315]\n"
          ],
          "name": "stdout"
        }
      ]
    },
    {
      "cell_type": "markdown",
      "metadata": {
        "id": "IGWjXKd9dB9D"
      },
      "source": [
        ""
      ]
    },
    {
      "cell_type": "code",
      "metadata": {
        "id": "s-Y357QYdCTo",
        "outputId": "d740fa2e-18a3-4678-8c13-114adcdeeeb9",
        "colab": {
          "base_uri": "https://localhost:8080/"
        }
      },
      "source": [
        "## Plotting Accuracy and Loss over time/epochs\n",
        "history_dict = history.history\n",
        "history_dict.keys()"
      ],
      "execution_count": 18,
      "outputs": [
        {
          "output_type": "execute_result",
          "data": {
            "text/plain": [
              "dict_keys(['loss', 'accuracy', 'val_loss', 'val_accuracy'])"
            ]
          },
          "metadata": {
            "tags": []
          },
          "execution_count": 18
        }
      ]
    },
    {
      "cell_type": "code",
      "metadata": {
        "id": "9mDjZuQgdVKT",
        "outputId": "af1dbbdf-c050-47f7-ba4d-5de60445e8ef",
        "colab": {
          "base_uri": "https://localhost:8080/",
          "height": 295
        }
      },
      "source": [
        "acc = history_dict['accuracy']\n",
        "val_acc = history_dict['val_accuracy']\n",
        "loss = history_dict['loss']\n",
        "val_loss = history_dict['val_loss']\n",
        "\n",
        "epochs = range(1, len(acc) + 1)\n",
        "\n",
        "# \"bo\" is for \"blue dot\"\n",
        "plt.plot(epochs, loss, 'ro', label='Training loss')\n",
        "# b is for \"solid blue line\"\n",
        "plt.plot(epochs, val_loss, 'b', label='Validation loss')\n",
        "plt.title('Training and validation loss')\n",
        "plt.xlabel('Epochs')\n",
        "plt.ylabel('Loss')\n",
        "plt.legend()\n",
        "\n",
        "plt.show()"
      ],
      "execution_count": 23,
      "outputs": [
        {
          "output_type": "display_data",
          "data": {
            "image/png": "[encoded data removed]",
            "text/plain": [
              "<Figure size 432x288 with 1 Axes>"
            ]
          },
          "metadata": {
            "tags": [],
            "needs_background": "light"
          }
        }
      ]
    },
    {
      "cell_type": "code",
      "metadata": {
        "id": "r1iJqDVndmqS",
        "outputId": "fa2ae2f1-3c3e-45f8-d89c-585689b309d4",
        "colab": {
          "base_uri": "https://localhost:8080/",
          "height": 295
        }
      },
      "source": [
        "plt.clf()   # clear figure\n",
        "\n",
        "plt.plot(epochs, acc, 'ro', label='Training acc')\n",
        "plt.plot(epochs, val_acc, 'b', label='Validation acc')\n",
        "plt.title('Training and validation accuracy')\n",
        "plt.xlabel('Epochs')\n",
        "plt.ylabel('Accuracy')\n",
        "plt.legend()\n",
        "\n",
        "plt.show()"
      ],
      "execution_count": 22,
      "outputs": [
        {
          "output_type": "display_data",
          "data": {
            "image/png": "[encoded data removed]",
            "text/plain": [
              "<Figure size 432x288 with 1 Axes>"
            ]
          },
          "metadata": {
            "tags": [],
            "needs_background": "light"
          }
        }
      ]
    }
  ]
}